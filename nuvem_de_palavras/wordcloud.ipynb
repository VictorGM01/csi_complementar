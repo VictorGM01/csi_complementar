{
 "nbformat": 4,
 "nbformat_minor": 0,
 "metadata": {
  "colab": {
   "name": "wordcloud.ipynb",
   "provenance": []
  },
  "kernelspec": {
   "name": "python3",
   "display_name": "Python 3"
  },
  "language_info": {
   "name": "python"
  }
 },
 "cells": [
  {
   "cell_type": "code",
   "execution_count": null,
   "metadata": {
    "id": "rn4cc_Eeutty"
   },
   "outputs": [],
   "source": [
    "# Pré-requisito: pip install wordcloud"
   ]
  },
  {
   "cell_type": "code",
   "source": [
    "import matplotlib.pyplot as plt\n",
    "from wordcloud import WordCloud"
   ],
   "metadata": {
    "id": "Ni2jNfE5wHFN"
   },
   "execution_count": 2,
   "outputs": []
  },
  {
   "cell_type": "code",
   "source": [
    "# Respostas consideradas para a nuvem de palavras\n",
    "palavras = [\"WhatsApp\", \"Facebook\", \"Email\", \"Phishing\", \"Email\",\n",
    "            \"WhatsApp\", \"WhatsApp\", \"Email\", \"Instagram\", \"Facebook\",\n",
    "            \"Hackeado\", \"Telefone\", \"Facebook\", \"WhatsApp\", \"Instagram\",\n",
    "            \"Facebook\", \"Falso\"]"
   ],
   "metadata": {
    "id": "MQcMW1vLHLX4"
   },
   "execution_count": 21,
   "outputs": []
  },
  {
   "cell_type": "code",
   "source": [
    "palavras_formatadas = \" \".join(s for s in palavras)"
   ],
   "metadata": {
    "cellView": "code",
    "id": "X5dqqXNZwykk"
   },
   "execution_count": 22,
   "outputs": []
  },
  {
   "cell_type": "code",
   "source": [
    "# Gera lista de palavras por meio da classe WordCloud e do método generate\n",
    "wordcloud = WordCloud(width=1000, height=400,\n",
    "                      collocations=False,\n",
    "                      mode=\"RGB\").generate(palavras_formatadas)"
   ],
   "metadata": {
    "id": "F0kjblh0xG0h"
   },
   "execution_count": 65,
   "outputs": []
  },
  {
   "cell_type": "code",
   "source": [
    "# Exibe a imagem gerada e salva-a no arquivo wordcloud.png\n",
    "plt.figure(figsize=(20, 10))\n",
    "plt.imshow(wordcloud)\n",
    "plt.axis(\"off\")\n",
    "plt.savefig('wordcloud.png', transparent=True)"
   ],
   "metadata": {
    "id": "djpToB_LxMlp"
   },
   "execution_count": null,
   "outputs": []
  }
 ]
}