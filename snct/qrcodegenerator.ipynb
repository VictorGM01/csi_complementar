{
 "nbformat": 4,
 "nbformat_minor": 0,
 "metadata": {
  "colab": {
   "provenance": []
  },
  "kernelspec": {
   "name": "python3",
   "display_name": "Python 3"
  },
  "language_info": {
   "name": "python"
  }
 },
 "cells": [
  {
   "cell_type": "code",
   "source": [
    "\"\"\"Este trecho de código é responsável por gerar o QR Code do banner\n",
    "exposto na 19ª Semana Nacional de Ciência e Tecnologia do IFSP\"\"\"\n",
    "\n",
    "import qrcode\n",
    "\n",
    "pasta = qrcode.QRCode(\n",
    "    version=1,\n",
    "    error_correction=qrcode.constants.ERROR_CORRECT_M,\n",
    "    box_size=8,\n",
    "    border=1\n",
    ")\n",
    "\n",
    "pasta.add_data('link aqui')\n",
    "pasta.make(fit=True)\n",
    "qr = pasta.make_image()\n",
    "qr.save('qrcode_banner.png')\n"
   ],
   "metadata": {
    "id": "3gkwz-IGL86O",
    "colab": {
     "base_uri": "https://localhost:8080/"
    },
    "outputId": "c8b3b00f-a0d8-4429-923e-95748fe24f26"
   },
   "execution_count": 6,
   "outputs": [
    {
     "output_type": "stream",
     "name": "stdout",
     "text": [
      "\n"
     ]
    }
   ]
  }
 ]
}